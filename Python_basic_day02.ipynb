{
 "cells": [
  {
   "cell_type": "code",
   "execution_count": 18,
   "metadata": {
    "collapsed": false,
    "deletable": true,
    "editable": true
   },
   "outputs": [
    {
     "data": {
      "text/plain": [
       "4"
      ]
     },
     "execution_count": 18,
     "metadata": {},
     "output_type": "execute_result"
    }
   ],
   "source": [
    "# list, tuple, dictionary : [1,2,3,4,]\n",
    "# dictionary = {\n",
    "#   'a' : 'b',\n",
    "#   'a' : 'b',\n",
    "#    a' : 'b',\n",
    "#}\n",
    "#\n",
    "# 마지막행 이 후 , 를 찍어준다.\n",
    "\n",
    "list1 = [1,2,3,4,]\n",
    "len(list1)"
   ]
  },
  {
   "cell_type": "code",
   "execution_count": 14,
   "metadata": {
    "collapsed": true,
    "deletable": true,
    "editable": true
   },
   "outputs": [],
   "source": [
    "# Tuple\n",
    "\n",
    "tuple1 = (1,2,3,4)"
   ]
  },
  {
   "cell_type": "code",
   "execution_count": 9,
   "metadata": {
    "collapsed": false,
    "deletable": true,
    "editable": true
   },
   "outputs": [
    {
     "ename": "TypeError",
     "evalue": "'tuple' object doesn't support item deletion",
     "output_type": "error",
     "traceback": [
      "\u001b[0;31m---------------------------------------------------------------------------\u001b[0m",
      "\u001b[0;31mTypeError\u001b[0m                                 Traceback (most recent call last)",
      "\u001b[0;32m<ipython-input-9-9fca919f833d>\u001b[0m in \u001b[0;36m<module>\u001b[0;34m()\u001b[0m\n\u001b[0;32m----> 1\u001b[0;31m \u001b[0;32mdel\u001b[0m \u001b[0mtuple1\u001b[0m\u001b[0;34m[\u001b[0m\u001b[0;36m2\u001b[0m\u001b[0;34m]\u001b[0m\u001b[0;34m\u001b[0m\u001b[0m\n\u001b[0m",
      "\u001b[0;31mTypeError\u001b[0m: 'tuple' object doesn't support item deletion"
     ]
    }
   ],
   "source": [
    "del tuple1[2]"
   ]
  },
  {
   "cell_type": "code",
   "execution_count": 10,
   "metadata": {
    "collapsed": false,
    "deletable": true,
    "editable": true
   },
   "outputs": [
    {
     "ename": "TypeError",
     "evalue": "'type' object does not support item assignment",
     "output_type": "error",
     "traceback": [
      "\u001b[0;31m---------------------------------------------------------------------------\u001b[0m",
      "\u001b[0;31mTypeError\u001b[0m                                 Traceback (most recent call last)",
      "\u001b[0;32m<ipython-input-10-cdaab11fefe8>\u001b[0m in \u001b[0;36m<module>\u001b[0;34m()\u001b[0m\n\u001b[0;32m----> 1\u001b[0;31m \u001b[0mtuple\u001b[0m\u001b[0;34m[\u001b[0m\u001b[0;36m1\u001b[0m\u001b[0;34m]\u001b[0m \u001b[0;34m=\u001b[0m \u001b[0;34m'c'\u001b[0m\u001b[0;34m\u001b[0m\u001b[0m\n\u001b[0m",
      "\u001b[0;31mTypeError\u001b[0m: 'type' object does not support item assignment"
     ]
    }
   ],
   "source": [
    "tuple[1] = 'c'"
   ]
  },
  {
   "cell_type": "code",
   "execution_count": 16,
   "metadata": {
    "collapsed": false,
    "deletable": true,
    "editable": true
   },
   "outputs": [
    {
     "name": "stdout",
     "output_type": "stream",
     "text": [
      "(1, 2, 3, 4, 'python', 'java')\n",
      "(1, 2, 3, 4, 'python', 'java', 'python', 'java', 'python', 'java', 'python', 'java', 'python', 'java')\n"
     ]
    }
   ],
   "source": [
    "tuple2 = ('python', 'java')\n",
    "print(tuple1 + tuple2)\n",
    "print(tuple1 + tuple2 * 5)"
   ]
  },
  {
   "cell_type": "code",
   "execution_count": 21,
   "metadata": {
    "collapsed": true,
    "deletable": true,
    "editable": true
   },
   "outputs": [],
   "source": [
    "sw_x = 1\n",
    "sw_y = 'python'"
   ]
  },
  {
   "cell_type": "code",
   "execution_count": 17,
   "metadata": {
    "collapsed": false,
    "deletable": true,
    "editable": true
   },
   "outputs": [
    {
     "name": "stdout",
     "output_type": "stream",
     "text": [
      "1 1\n"
     ]
    }
   ],
   "source": [
    "sw_y = sw_x\n",
    "sw_x = sw_y\n",
    "\n",
    "print(sw_x, sw_y)"
   ]
  },
  {
   "cell_type": "code",
   "execution_count": 20,
   "metadata": {
    "collapsed": false,
    "deletable": true,
    "editable": true
   },
   "outputs": [
    {
     "name": "stdout",
     "output_type": "stream",
     "text": [
      "python 1\n"
     ]
    }
   ],
   "source": [
    "temp = sw_x;\n",
    "sw_x = sw_y\n",
    "sw_y = temp\n",
    "print(sw_x, sw_y)"
   ]
  },
  {
   "cell_type": "code",
   "execution_count": 22,
   "metadata": {
    "collapsed": false,
    "deletable": true,
    "editable": true
   },
   "outputs": [
    {
     "name": "stdout",
     "output_type": "stream",
     "text": [
      "python 1\n"
     ]
    }
   ],
   "source": [
    "(sw_y, sw_x) = (sw_x, sw_y)\n",
    "print(sw_x, sw_y)"
   ]
  },
  {
   "cell_type": "code",
   "execution_count": 29,
   "metadata": {
    "collapsed": false,
    "deletable": true,
    "editable": true
   },
   "outputs": [
    {
     "name": "stdout",
     "output_type": "stream",
     "text": [
      "3 4\n",
      "3\n",
      "(74, 3)\n",
      "74\n"
     ]
    }
   ],
   "source": [
    "def quot_and_rem(a,b):\n",
    "    quot = a // b\n",
    "    rem = a % b\n",
    "    return (quot, rem)\n",
    "\n",
    "(quot, rem) = quot_and_rem(19, 5)\n",
    "print(quot, rem)\n",
    "print(quot)\n",
    "\n",
    "one = quot_and_rem(373, 5)\n",
    "print(one)\n",
    "print(one[0])"
   ]
  },
  {
   "cell_type": "code",
   "execution_count": 31,
   "metadata": {
    "collapsed": false,
    "deletable": true,
    "editable": true
   },
   "outputs": [
    {
     "name": "stdout",
     "output_type": "stream",
     "text": [
      "{'name': 'foo bar'}\n"
     ]
    }
   ],
   "source": [
    "# dictionary\n",
    "\n",
    "dict1 = {}\n",
    "dict1 = {\n",
    "    'name' : 'foo bar',\n",
    "}\n",
    "print(dict1)"
   ]
  },
  {
   "cell_type": "code",
   "execution_count": 45,
   "metadata": {
    "collapsed": false,
    "deletable": true,
    "editable": true
   },
   "outputs": [
    {
     "name": "stdout",
     "output_type": "stream",
     "text": [
      "{'korean': 70, 'math': 80, 'science': [50, 80, 25, 100]}\n",
      "{'korean': 70, 'math': 80, 'science': [50, 80, 25, 100], 'english': 'pass'}\n"
     ]
    }
   ],
   "source": [
    "score = {\n",
    "    'korean' : 70,\n",
    "    'math' : 80,\n",
    "    'science' : [50, 80, 25, 100],\n",
    "}\n",
    "\n",
    "print(score)\n",
    "\n",
    "score['english'] = 'pass'\n",
    "print(score)"
   ]
  },
  {
   "cell_type": "code",
   "execution_count": 42,
   "metadata": {
    "collapsed": false,
    "deletable": true,
    "editable": true
   },
   "outputs": [
    {
     "name": "stdout",
     "output_type": "stream",
     "text": [
      "{'korean': 70, 'math': 80, 'science': [50, 80, 25, 100], 'english': 'coo'}\n"
     ]
    }
   ],
   "source": [
    "score['english'] = 'coo'\n",
    "print(score)"
   ]
  },
  {
   "cell_type": "code",
   "execution_count": 46,
   "metadata": {
    "collapsed": false,
    "deletable": true,
    "editable": true
   },
   "outputs": [
    {
     "name": "stdout",
     "output_type": "stream",
     "text": [
      "{'korean': 70, 'science': [50, 80, 25, 100], 'english': 'pass'}\n"
     ]
    }
   ],
   "source": [
    "del score['math']\n",
    "print(score)"
   ]
  },
  {
   "cell_type": "code",
   "execution_count": 53,
   "metadata": {
    "collapsed": false,
    "deletable": true,
    "editable": true
   },
   "outputs": [
    {
     "name": "stdout",
     "output_type": "stream",
     "text": [
      "70\n",
      "dict_keys(['korean', 'science', 'english'])\n",
      "dict_values([70, [50, 80, 25, 100], 'pass'])\n",
      "dict_items([('korean', 70), ('science', [50, 80, 25, 100]), ('english', 'pass')])\n"
     ]
    }
   ],
   "source": [
    "print(score['korean'])\n",
    "print(score.keys())\n",
    "print(score.values())\n",
    "print(score.items()) # items()는 튜플로 출력된다."
   ]
  },
  {
   "cell_type": "code",
   "execution_count": 57,
   "metadata": {
    "collapsed": false,
    "deletable": true,
    "editable": true
   },
   "outputs": [
    {
     "name": "stdout",
     "output_type": "stream",
     "text": [
      "n is more than 10\n"
     ]
    }
   ],
   "source": [
    "n = 11\n",
    "\n",
    "if n > 10 :\n",
    "    print('n is more than 10')\n",
    "else :\n",
    "    if n > 5 :\n",
    "        print('n is more than 5')\n",
    "    else : \n",
    "        if n < 5 :\n",
    "            print('n is less than 5')"
   ]
  },
  {
   "cell_type": "code",
   "execution_count": 60,
   "metadata": {
    "collapsed": false,
    "deletable": true,
    "editable": true
   },
   "outputs": [
    {
     "name": "stdout",
     "output_type": "stream",
     "text": [
      "n is less than 5\n"
     ]
    }
   ],
   "source": [
    "n = 3\n",
    "\n",
    "if n > 10 :\n",
    "    print('n is more than 10')\n",
    "elif n > 5 :\n",
    "    print('n is more than 5')\n",
    "elif n < 0 :\n",
    "    print('n is negative value')\n",
    "else : \n",
    "    print('n is less than 5')"
   ]
  },
  {
   "cell_type": "code",
   "execution_count": 61,
   "metadata": {
    "collapsed": false,
    "deletable": true,
    "editable": true
   },
   "outputs": [
    {
     "name": "stdout",
     "output_type": "stream",
     "text": [
      "37\n",
      "What is yout name? min\n",
      "Hi, min. Guess the number : 2\n",
      "You are incorrect\n"
     ]
    }
   ],
   "source": [
    "import random\n",
    "\n",
    "\n",
    "answer = random.randint(1,100)\n",
    "print(answer)\n",
    "\n",
    "username = input(\"What is yout name? \")\n",
    "guess = eval(input(\"Hi, \" + username + \". Guess the number : \"))\n",
    "\n",
    "if guess == answer :\n",
    "    print(\"Correct\")\n",
    "    break\n",
    "else :\n",
    "    print(\"You are incorrect\")"
   ]
  },
  {
   "cell_type": "code",
   "execution_count": 68,
   "metadata": {
    "collapsed": false,
    "deletable": true,
    "editable": true
   },
   "outputs": [
    {
     "name": "stdout",
     "output_type": "stream",
     "text": [
      "Type the number : 33\n",
      "1\n",
      "2\n",
      "fizz\n",
      "4\n",
      "buzz\n",
      "fizz\n",
      "7\n",
      "8\n",
      "fizz\n",
      "buzz\n",
      "11\n",
      "fizz\n",
      "13\n",
      "14\n",
      "fizzbuzz\n",
      "16\n",
      "17\n",
      "fizz\n",
      "19\n",
      "buzz\n",
      "fizz\n",
      "22\n",
      "23\n",
      "fizz\n",
      "buzz\n",
      "26\n",
      "fizz\n",
      "28\n",
      "29\n",
      "fizzbuzz\n",
      "31\n",
      "32\n",
      "fizz\n"
     ]
    }
   ],
   "source": [
    "# Fizzbuzz (3의 배수일 땐 fizz, 5의 배수일 땐 buzz, 15의 배수일 땐 fizzbuzz)\n",
    "\n",
    "\n",
    "num = int(input(\"Type the number : \"))\n",
    "\n",
    "for i in range(1, num +1) :\n",
    "    if i % 15 == 0 :\n",
    "        print(\"fizzbuzz\")\n",
    "    elif i % 5 == 0 :\n",
    "        print(\"buzz\")\n",
    "    elif i % 3 == 0 :\n",
    "        print(\"fizz\")\n",
    "    else :\n",
    "        print(i)"
   ]
  },
  {
   "cell_type": "code",
   "execution_count": 70,
   "metadata": {
    "collapsed": false,
    "deletable": true,
    "editable": true
   },
   "outputs": [
    {
     "name": "stdout",
     "output_type": "stream",
     "text": [
      "54\n",
      "What is yout name? min\n",
      "Hi, min. Guess the number : 12\n",
      "You are incorrect\n",
      "Hi, min. Guess the number : 54\n",
      "Correct\n"
     ]
    }
   ],
   "source": [
    "import random\n",
    "\n",
    "\n",
    "answer = random.randint(1,100)\n",
    "print(answer)\n",
    "\n",
    "username = input(\"What is yout name? \")\n",
    "\n",
    "while True :\n",
    "    guess = eval(input(\"Hi, \" + username + \". Guess the number : \"))\n",
    "\n",
    "    if guess == answer :\n",
    "        print(\"Correct\")\n",
    "        break\n",
    "    else :\n",
    "        print(\"You are incorrect\")"
   ]
  },
  {
   "cell_type": "code",
   "execution_count": 79,
   "metadata": {
    "collapsed": false,
    "deletable": true,
    "editable": true
   },
   "outputs": [
    {
     "name": "stdout",
     "output_type": "stream",
     "text": [
      "71\n",
      "What is yout name? min\n",
      "Hi, min. Guess the number : 5\n",
      "Too low. (2 times left)\n",
      "Hi, min. Guess the number : 50\n",
      "Too low. (1 times left)\n",
      "Hi, min. Guess the number : 70\n",
      "Too low. (0 times left)\n",
      "You are dead\n"
     ]
    }
   ],
   "source": [
    "import random\n",
    "\n",
    "\n",
    "answer = random.randint(1,100)\n",
    "print(answer)\n",
    "\n",
    "username = input(\"What is yout name? \")\n",
    "\n",
    "chance =3\n",
    "\n",
    "while True :\n",
    "    guess = eval(input(\"Hi, \" + username + \". Guess the number : \"))\n",
    "\n",
    "    if guess == answer :\n",
    "        print(\"Correct\")\n",
    "        break\n",
    "    elif guess > answer :\n",
    "        chance -= 1\n",
    "        print(\"Too Hight. (%d times left)\" % (chance))\n",
    "        if(chance == 0) :\n",
    "            print(\"You are dead\")\n",
    "            break;\n",
    "    elif guess < answer :\n",
    "        chance -= 1\n",
    "        print(\"Too low. (%d times left)\" % (chance))\n",
    "        if(chance == 0) :\n",
    "            print(\"You are dead\")\n",
    "            break;"
   ]
  },
  {
   "cell_type": "code",
   "execution_count": 2,
   "metadata": {
    "collapsed": false,
    "deletable": true,
    "editable": true
   },
   "outputs": [
    {
     "name": "stdout",
     "output_type": "stream",
     "text": [
      "Decide Secret number : 45\n",
      "give me the some words to encrypt : sdfsdf\n",
      "encrypted message :  sdfsdf\n",
      "decrypted message :  zkmzkm\n",
      "press any key to continue of 'q' to quit : q\n"
     ]
    }
   ],
   "source": [
    "import string\n",
    "from string import ascii_uppercase as up_case\n",
    "from string import ascii_lowercase as lo_case\n",
    "\n",
    "\n",
    "def caesar(s, k, decode = False) : # decode = False : \n",
    "    if decode: k = 26 - k \n",
    "    return s.translate(\n",
    "        str.maketrans(\n",
    "            up_case + lo_case,\n",
    "            up_case[k:] + up_case[:k] +\n",
    "            lo_case[k:] + lo_case[:k]\n",
    "            )\n",
    "        )\n",
    "\n",
    "while True : \n",
    "    encrypt_key = int(input(\"Decide Secret number : \"))\n",
    "    msg = input(\"give me the some words to encrypt : \")\n",
    "    print(\"encrypted message : \", caesar(msg, encrypt_key))\n",
    "    print(\"decrypted message : \", caesar(caesar(msg, encrypt_key), encrypt_key, True))\n",
    "    exit = input(\"press any key to continue of 'q' to quit : \").lower()\n",
    "    if 'q' in exit :\n",
    "        break"
   ]
  },
  {
   "cell_type": "raw",
   "metadata": {
    "collapsed": true,
    "deletable": true,
    "editable": true
   },
   "source": []
  },
  {
   "cell_type": "code",
   "execution_count": null,
   "metadata": {
    "collapsed": false,
    "deletable": true,
    "editable": true
   },
   "outputs": [],
   "source": []
  },
  {
   "cell_type": "code",
   "execution_count": null,
   "metadata": {
    "collapsed": false,
    "deletable": true,
    "editable": true
   },
   "outputs": [],
   "source": []
  },
  {
   "cell_type": "code",
   "execution_count": null,
   "metadata": {
    "collapsed": true,
    "deletable": true,
    "editable": true
   },
   "outputs": [],
   "source": []
  }
 ],
 "metadata": {
  "kernelspec": {
   "display_name": "Python 3",
   "language": "python",
   "name": "python3"
  },
  "language_info": {
   "codemirror_mode": {
    "name": "ipython",
    "version": 3
   },
   "file_extension": ".py",
   "mimetype": "text/x-python",
   "name": "python",
   "nbconvert_exporter": "python",
   "pygments_lexer": "ipython3",
   "version": "3.6.0"
  }
 },
 "nbformat": 4,
 "nbformat_minor": 2
}
